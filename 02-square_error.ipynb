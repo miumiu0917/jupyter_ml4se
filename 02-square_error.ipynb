{
 "cells": [
  {
   "cell_type": "markdown",
   "metadata": {},
   "source": [
    "# 第2章 最小二乗法：機械学習理論の第一歩"
   ]
  },
  {
   "cell_type": "markdown",
   "metadata": {},
   "source": [
    "## 「02-square_error.py」の解説"
   ]
  },
  {
   "cell_type": "markdown",
   "metadata": {},
   "source": [
    "ITエンジニアための機械学習理論入門「第2章 最小二乗法:機械学習理論の第一歩」で使用しているサンプルコード「02-square_error.py」の解説です。\n",
    "\n",
    "※ 解説用にコードの内容は少し変更しています。"
   ]
  },
  {
   "cell_type": "markdown",
   "metadata": {},
   "source": [
    "### データ数 N=10 の場合"
   ]
  },
  {
   "cell_type": "markdown",
   "metadata": {},
   "source": [
    "はじめに必要なモジュールをインポートしておきます。\n",
    "\n",
    "関数 normal は、正規分布に従う乱数を生成するために利用します。"
   ]
  },
  {
   "cell_type": "code",
   "execution_count": null,
   "metadata": {},
   "outputs": [],
   "source": [
    "import numpy as np\n",
    "import matplotlib.pyplot as plt\n",
    "%matplotlib inline\n",
    "import pandas as pd\n",
    "from pandas import Series, DataFrame\n",
    "\n",
    "from numpy.random import normal"
   ]
  },
  {
   "cell_type": "markdown",
   "metadata": {},
   "source": [
    "正弦関数に正規分布のノイズを載せたデータセットを生成する関数を定義します。\n",
    "\n",
    "これは、0≦x≦1 の区間を等分した num 個の点 x に対して、対応する y の値を生成します。"
   ]
  },
  {
   "cell_type": "code",
   "execution_count": null,
   "metadata": {},
   "outputs": [],
   "source": [
    "# データセット {x_n,y_n} (n=1...num) を用意\n",
    "def create_dataset(num):\n",
    "    dataset = DataFrame(columns=['x','y'])\n",
    "    for i in range(num):\n",
    "        x = float(i)/float(num-1)\n",
    "        y = np.sin(2*np.pi*x) + normal(scale=0.3)\n",
    "        dataset = dataset.append(Series([x,y], index=['x','y']),\n",
    "                                 ignore_index=True)\n",
    "    return dataset"
   ]
  },
  {
   "cell_type": "markdown",
   "metadata": {},
   "source": [
    "例として、10個のデータをトレーニングセットとして生成します。"
   ]
  },
  {
   "cell_type": "code",
   "execution_count": null,
   "metadata": {},
   "outputs": [],
   "source": [
    "N=10            # サンプルを取得する位置 x の個数\n",
    "train_set = create_dataset(N)\n",
    "train_set"
   ]
  },
  {
   "cell_type": "markdown",
   "metadata": {},
   "source": [
    "x と y の値のリストは、train_set.x と train_set.y で取得できます。\n",
    "\n",
    "グラフ上にプロットすると次のようになります。"
   ]
  },
  {
   "cell_type": "code",
   "execution_count": null,
   "metadata": {},
   "outputs": [],
   "source": [
    "plt.scatter(train_set.x, train_set.y, marker='o', color='blue')"
   ]
  },
  {
   "cell_type": "markdown",
   "metadata": {},
   "source": [
    "このデータに対して、最小二乗法でフィッティングした m 次多項式を決定する関数を用意します。\n",
    "\n",
    "引数 dataset と m にトレーニングセットと多項式の次数を代入すると、多項式に対応する関数 f(x) のオブジェクトが返ります。"
   ]
  },
  {
   "cell_type": "code",
   "execution_count": null,
   "metadata": {
    "collapsed": true
   },
   "outputs": [],
   "source": [
    "# 最小二乗法で解を求める\n",
    "def resolve(dataset, m):\n",
    "    t = dataset.y\n",
    "    phi = DataFrame()\n",
    "    for i in range(0,m+1):\n",
    "        p = dataset.x**i\n",
    "        p.name=\"x**%d\" % i\n",
    "        phi = pd.concat([phi,p], axis=1)\n",
    "    tmp = np.linalg.inv(np.dot(phi.T, phi))\n",
    "    ws = np.dot(np.dot(tmp, phi.T), t)\n",
    "\n",
    "    def f(x):\n",
    "        y = 0\n",
    "        for i, w in enumerate(ws):\n",
    "            y += w * (x ** i)\n",
    "        return y\n",
    "\n",
    "    return f"
   ]
  },
  {
   "cell_type": "markdown",
   "metadata": {},
   "source": [
    "また、得られた関数 f(x) に対して、トレーニングセットに対する平方根平均二乗誤差（RMS）を求める関数を用意します。"
   ]
  },
  {
   "cell_type": "code",
   "execution_count": null,
   "metadata": {
    "collapsed": true
   },
   "outputs": [],
   "source": [
    "# 平方根平均二乗誤差（Root mean square error）を計算\n",
    "def rms_error(dataset, f):\n",
    "    err = 0.0\n",
    "    for index, line in dataset.iterrows():\n",
    "        x, y = line.x, line.y\n",
    "        err += 0.5 * (y - f(x))**2\n",
    "    return np.sqrt(2 * err / len(dataset))"
   ]
  },
  {
   "cell_type": "markdown",
   "metadata": {},
   "source": [
    "これらを用いて、結果をグラフに可視化する関数が次になります。"
   ]
  },
  {
   "cell_type": "code",
   "execution_count": null,
   "metadata": {},
   "outputs": [],
   "source": [
    "def show_result(subplot, train_set, m):\n",
    "    f = resolve(train_set, m)\n",
    "    subplot.set_xlim(-0.05,1.05)\n",
    "    subplot.set_ylim(-1.5,1.5)\n",
    "    subplot.set_title(\"M=%d\" % m, fontsize=10)\n",
    "\n",
    "    # トレーニングセットを表示\n",
    "    subplot.scatter(train_set.x, train_set.y, marker='o',\n",
    "                    color='blue', label=None)\n",
    "\n",
    "    # 真の曲線を表示\n",
    "    linex = np.linspace(0,1,101)\n",
    "    liney = np.sin(2*np.pi*linex)\n",
    "    subplot.plot(linex, liney, color='green', linestyle='--')\n",
    "\n",
    "    # 多項式近似の曲線を表示\n",
    "    linex = np.linspace(0,1,101)\n",
    "    liney = f(linex)\n",
    "    label = \"E(RMS)=%.2f\" % rms_error(train_set, f)\n",
    "    subplot.plot(linex, liney, color='red', label=label)\n",
    "    subplot.legend(loc=1, fontsize=10)"
   ]
  },
  {
   "cell_type": "markdown",
   "metadata": {},
   "source": [
    "先ほど生成したトレーニングセットを用いて、0, 1, 3, 9次多項式（定数関数）でフィッティングした結果を表示します。"
   ]
  },
  {
   "cell_type": "code",
   "execution_count": null,
   "metadata": {
    "scrolled": false
   },
   "outputs": [],
   "source": [
    "fig = plt.figure(figsize=(7, 5))\n",
    "for i, m in enumerate([0,1,3,9]):\n",
    "    subplot = fig.add_subplot(2,2,i+1)\n",
    "    show_result(subplot, train_set,m)"
   ]
  },
  {
   "cell_type": "markdown",
   "metadata": {},
   "source": [
    "多項式の次数が上がるにつれてデータポイントの近くを通るようになり、平方根平均二乗誤差が減少していることがわかります。"
   ]
  },
  {
   "cell_type": "markdown",
   "metadata": {},
   "source": [
    "ここで、トレーニングセットとテストセットに対する平方根平均二乗誤差の変化を確認します。\n",
    "\n",
    "多項式の次数を0〜10に変化させながら、平方根平均二乗誤差のグラフを描く関数を用意します。"
   ]
  },
  {
   "cell_type": "code",
   "execution_count": null,
   "metadata": {},
   "outputs": [],
   "source": [
    "# トレーニングセットとテストセットでの誤差の変化を表示\n",
    "def show_rms_trend(train_set, test_set):\n",
    "    df = DataFrame(columns=['Training set','Test set'])\n",
    "    for m in range(0,10):   # 多項式の次数\n",
    "        f = resolve(train_set, m)\n",
    "        train_error = rms_error(train_set, f)\n",
    "        test_error = rms_error(test_set, f)\n",
    "        df = df.append(\n",
    "                Series([train_error, test_error],\n",
    "                        index=['Training set','Test set']),\n",
    "                        ignore_index=True)\n",
    "    df.plot(title='RMS Error', style=['-','--'], grid=True, ylim=(0,0.9))"
   ]
  },
  {
   "cell_type": "markdown",
   "metadata": {},
   "source": [
    "トレーニングセットとは独立に生成したテストセットを用意します。"
   ]
  },
  {
   "cell_type": "code",
   "execution_count": null,
   "metadata": {},
   "outputs": [],
   "source": [
    "test_set = create_dataset(N)\n",
    "test_set"
   ]
  },
  {
   "cell_type": "markdown",
   "metadata": {},
   "source": [
    "多項式の次数を0〜10に変化させながら、トレーニングセットとテストセットに対する平方根平均二条誤差を計算して、結果をグラフ表示します。"
   ]
  },
  {
   "cell_type": "code",
   "execution_count": null,
   "metadata": {},
   "outputs": [],
   "source": [
    "show_rms_trend(train_set, test_set)"
   ]
  },
  {
   "cell_type": "markdown",
   "metadata": {},
   "source": [
    "次数が3を超えるとテストセットに対する誤差が減少しなくなることがわかります。"
   ]
  },
  {
   "cell_type": "markdown",
   "metadata": {},
   "source": [
    "### データ数 N=100 の場合"
   ]
  },
  {
   "cell_type": "markdown",
   "metadata": {},
   "source": [
    "同じ計算をデータ数を増やして実施してみます。\n",
    "\n",
    "N=100 でトレーニングセットとテストセットを用意します。"
   ]
  },
  {
   "cell_type": "code",
   "execution_count": null,
   "metadata": {
    "collapsed": true
   },
   "outputs": [],
   "source": [
    "N=100            # サンプルを取得する位置 x の個数\n",
    "train_set = create_dataset(N)\n",
    "test_set = create_dataset(N)"
   ]
  },
  {
   "cell_type": "markdown",
   "metadata": {},
   "source": [
    "最小二乗法でフィッティングした結果を表示します。"
   ]
  },
  {
   "cell_type": "code",
   "execution_count": null,
   "metadata": {},
   "outputs": [],
   "source": [
    "fig = plt.figure(figsize=(7, 5))\n",
    "for i, m in enumerate([0,1,3,9]):\n",
    "    subplot = fig.add_subplot(2,2,i+1)\n",
    "    show_result(subplot, train_set,m)"
   ]
  },
  {
   "cell_type": "markdown",
   "metadata": {},
   "source": [
    "多項式の次数があがってもオーバーフィッティングが発生しにくくなっていることがわかります。"
   ]
  },
  {
   "cell_type": "markdown",
   "metadata": {},
   "source": [
    "トレーニングセットとテストセットに対する平方根平均二乗誤差の変化を表示します。"
   ]
  },
  {
   "cell_type": "code",
   "execution_count": null,
   "metadata": {},
   "outputs": [],
   "source": [
    "show_rms_trend(train_set, test_set)"
   ]
  },
  {
   "cell_type": "markdown",
   "metadata": {},
   "source": [
    "次数が3を超えると平方根平均二乗誤差が約0.3で一定になります。これは、このデータが本質的に±0.3程度の誤差を持っている事を示します。"
   ]
  },
  {
   "cell_type": "code",
   "execution_count": null,
   "metadata": {
    "collapsed": true
   },
   "outputs": [],
   "source": []
  },
  {
   "cell_type": "code",
   "execution_count": null,
   "metadata": {
    "collapsed": true
   },
   "outputs": [],
   "source": []
  },
  {
   "cell_type": "code",
   "execution_count": null,
   "metadata": {
    "collapsed": true
   },
   "outputs": [],
   "source": []
  },
  {
   "cell_type": "code",
   "execution_count": null,
   "metadata": {
    "collapsed": true
   },
   "outputs": [],
   "source": []
  },
  {
   "cell_type": "code",
   "execution_count": null,
   "metadata": {
    "collapsed": true
   },
   "outputs": [],
   "source": []
  },
  {
   "cell_type": "code",
   "execution_count": null,
   "metadata": {
    "collapsed": true
   },
   "outputs": [],
   "source": []
  }
 ],
 "metadata": {
  "kernelspec": {
   "display_name": "Python 3",
   "language": "python",
   "name": "python3"
  },
  "language_info": {
   "codemirror_mode": {
    "name": "ipython",
    "version": 3
   },
   "file_extension": ".py",
   "mimetype": "text/x-python",
   "name": "python",
   "nbconvert_exporter": "python",
   "pygments_lexer": "ipython3",
   "version": "3.6.0"
  }
 },
 "nbformat": 4,
 "nbformat_minor": 1
}
